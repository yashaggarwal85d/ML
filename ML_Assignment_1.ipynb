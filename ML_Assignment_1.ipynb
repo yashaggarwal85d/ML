{
  "cells": [
    {
      "cell_type": "markdown",
      "metadata": {
        "colab_type": "text",
        "id": "view-in-github"
      },
      "source": [
        "<a href=\"https://colab.research.google.com/github/7ayush/DataScience/blob/main/ML_Assignment_1.ipynb\" target=\"_parent\"><img src=\"https://colab.research.google.com/assets/colab-badge.svg\" alt=\"Open In Colab\"/></a>"
      ]
    },
    {
      "cell_type": "markdown",
      "metadata": {
        "id": "obSyU5HLn8d6"
      },
      "source": [
        "Yash Aggarwal 101903276 Basics of Python Assignment"
      ]
    },
    {
      "cell_type": "code",
      "execution_count": 1,
      "metadata": {
        "colab": {
          "base_uri": "https://localhost:8080/"
        },
        "id": "OLlPHGEOf_0Z",
        "outputId": "4e89a14c-3811-484d-e0ac-ddd6029a619c"
      },
      "outputs": [
        {
          "name": "stdout",
          "output_type": "stream",
          "text": [
            "['Hi', 'there', 'Class!']\n"
          ]
        }
      ],
      "source": [
        "# Question-1\n",
        "s = \"Hi there Class!\"\n",
        "list=s.split();\n",
        "print(list);"
      ]
    },
    {
      "cell_type": "code",
      "execution_count": 2,
      "metadata": {
        "colab": {
          "base_uri": "https://localhost:8080/"
        },
        "id": "LEZs4T0Wgxs-",
        "outputId": "d1d7fbc5-9743-47fd-d55b-c846eb0ab6d3"
      },
      "outputs": [
        {
          "name": "stdout",
          "output_type": "stream",
          "text": [
            "The diameter of Earth is 12742 kilometers.\n"
          ]
        }
      ],
      "source": [
        "# Question-2\n",
        "planet = \"Earth\"\n",
        "diameter = 12742\n",
        "print(\"The diameter of \"+planet+\" is \"+str(diameter)+\" kilometers.\")"
      ]
    },
    {
      "cell_type": "code",
      "execution_count": 3,
      "metadata": {
        "colab": {
          "base_uri": "https://localhost:8080/"
        },
        "id": "0Aojo9XthNOu",
        "outputId": "56cab2e3-7841-4fef-fd7f-fbefc3b68b43"
      },
      "outputs": [
        {
          "name": "stdout",
          "output_type": "stream",
          "text": [
            "hello\n"
          ]
        }
      ],
      "source": [
        "# Question-3\n",
        "lst = [1,2,[3,4],[5,[100,200,['hello']],23,11],1,7]\n",
        "print(lst[3][1][2][0]);"
      ]
    },
    {
      "cell_type": "code",
      "execution_count": 4,
      "metadata": {
        "colab": {
          "base_uri": "https://localhost:8080/",
          "height": 35
        },
        "id": "SxUGyU3Qo3Sc",
        "outputId": "1118be40-3688-4458-f67a-a46553860267"
      },
      "outputs": [
        {
          "data": {
            "text/plain": [
              "'hello'"
            ]
          },
          "execution_count": 4,
          "metadata": {},
          "output_type": "execute_result"
        }
      ],
      "source": [
        "# Question-4\n",
        "d = {'k1':[1,2,3,{'tricky':['oh','man','inception',{'target':[1,2,3,'hello']}]}]}\n",
        "d[\"k1\"][3][\"tricky\"][3][\"target\"][3]"
      ]
    },
    {
      "cell_type": "code",
      "execution_count": 5,
      "metadata": {
        "colab": {
          "base_uri": "https://localhost:8080/"
        },
        "id": "NrbR_gSOhzhj",
        "outputId": "a51b8ca0-403b-479a-8a18-5b499ff42ea5"
      },
      "outputs": [
        {
          "name": "stdout",
          "output_type": "stream",
          "text": [
            "www.domain.com\n"
          ]
        }
      ],
      "source": [
        "# Question-5\n",
        "mail=\"user@domain.com\"\n",
        "lst=(mail.split(\"@\"))\n",
        "print(\"www.\"+lst[1])"
      ]
    },
    {
      "cell_type": "code",
      "execution_count": 6,
      "metadata": {
        "colab": {
          "base_uri": "https://localhost:8080/"
        },
        "id": "9LKIKNxFkmuu",
        "outputId": "3e3f6dea-f732-4d5a-ae50-6566a890ed2f"
      },
      "outputs": [
        {
          "name": "stdout",
          "output_type": "stream",
          "text": [
            "True\n",
            "False\n"
          ]
        }
      ],
      "source": [
        "# Question-6\n",
        "def find(a,c):\n",
        "  if a.find(c)!=-1:\n",
        "    print(\"True\")\n",
        "  else:\n",
        "    print(\"False\")\n",
        "    \n",
        "a=\"I have a dog\"\n",
        "b=\"I have a cat\"\n",
        "c=\"dog\"\n",
        "find(a,c)\n",
        "find(b,c)"
      ]
    },
    {
      "cell_type": "code",
      "execution_count": 7,
      "metadata": {
        "colab": {
          "base_uri": "https://localhost:8080/"
        },
        "id": "x5ShSrG9luXh",
        "outputId": "84de6e33-92e2-4825-992d-11a9e9bb472a"
      },
      "outputs": [
        {
          "name": "stdout",
          "output_type": "stream",
          "text": [
            "4\n",
            "1\n",
            "0\n"
          ]
        }
      ],
      "source": [
        "# Question-7\n",
        "def count(a,c):\n",
        "  print(a.count(c))\n",
        "    \n",
        "a=\"I have a dog dog dog dog\"\n",
        "b=\"I have a cat dog \"\n",
        "d=\"I have a cat\"\n",
        "c=\"dog\"\n",
        "count(a,c)\n",
        "count(b,c)\n",
        "count(d,c)"
      ]
    },
    {
      "cell_type": "code",
      "execution_count": 8,
      "metadata": {
        "colab": {
          "base_uri": "https://localhost:8080/"
        },
        "id": "dy-bOK3OpLlj",
        "outputId": "aec7a062-f421-45d5-bc3a-60a292263d7f"
      },
      "outputs": [
        {
          "name": "stdout",
          "output_type": "stream",
          "text": [
            "dog\n",
            "cat\n",
            "great\n"
          ]
        }
      ],
      "source": [
        "# Question-8\n",
        "def nos(s):\n",
        "    if s[0] == 's':\n",
        "        return False\n",
        "    else:\n",
        "        return True\n",
        "seq = ['soup','dog','salad','cat','great']\n",
        "x = filter(nos, seq)\n",
        "for i in x:\n",
        "    print(i)"
      ]
    },
    {
      "cell_type": "code",
      "execution_count": 9,
      "metadata": {
        "colab": {
          "base_uri": "https://localhost:8080/"
        },
        "id": "g0Kv6Je8poP8",
        "outputId": "e57833b0-faba-4d90-9aa7-061fe4b26ea9"
      },
      "outputs": [
        {
          "name": "stdout",
          "output_type": "stream",
          "text": [
            "Heavy Challan\n"
          ]
        }
      ],
      "source": [
        "# Question-9\n",
        "def fine(x,y):\n",
        "    if y == True:\n",
        "        x = x-5\n",
        "    if x <= 60:\n",
        "        return \"No Challan\"\n",
        "    elif x>60 and x<=80:\n",
        "        return \"Small Challan\"\n",
        "    else:\n",
        "        return \"Heavy Challan\"\n",
        "print(fine(82,False))    \n",
        "        \n",
        "    "
      ]
    },
    {
      "cell_type": "code",
      "execution_count": 10,
      "metadata": {
        "colab": {
          "base_uri": "https://localhost:8080/"
        },
        "id": "KBDf2R53qAre",
        "outputId": "7b3666c6-bb87-4e2f-efde-01017e505862"
      },
      "outputs": [
        {
          "data": {
            "text/plain": [
              "['My', 'name', 'is', 'Shelly']"
            ]
          },
          "execution_count": 10,
          "metadata": {},
          "output_type": "execute_result"
        }
      ],
      "source": [
        "# Question-10\n",
        "list1 = [\"M\", \"na\", \"i\", \"She\"]\n",
        "list2 = [\"y\", \"me\", \"s\", \"lly\"]\n",
        "x = []\n",
        "for i in range(len(list1)):\n",
        "    x.append(list1[i]+list2[i])\n",
        "x    "
      ]
    },
    {
      "cell_type": "code",
      "execution_count": 11,
      "metadata": {
        "colab": {
          "base_uri": "https://localhost:8080/"
        },
        "id": "p5h_G7aoqEnj",
        "outputId": "0489f9b6-1e4c-405d-e0f5-5d8eed710938"
      },
      "outputs": [
        {
          "data": {
            "text/plain": [
              "['Hello Dear', 'Hello Sir', 'take Dear', 'take Sir']"
            ]
          },
          "execution_count": 11,
          "metadata": {},
          "output_type": "execute_result"
        }
      ],
      "source": [
        "# Question-11\n",
        "list1 = [\"Hello \", \"take \"]\n",
        "list2 = [\"Dear\", \"Sir\"]\n",
        "x = []\n",
        "for i in range(len(list1)):\n",
        "    for j in range(len(list2)):\n",
        "        x.append(list1[i]+list2[j])\n",
        "x     "
      ]
    },
    {
      "cell_type": "code",
      "execution_count": 12,
      "metadata": {
        "colab": {
          "base_uri": "https://localhost:8080/"
        },
        "id": "gtWQbjJeqM0B",
        "outputId": "13145b66-2f6d-4d87-8dc2-2bf5c1442860"
      },
      "outputs": [
        {
          "data": {
            "text/plain": [
              "[10, 20, [300, 400, [5000, 6000, 7000], 500], 30, 40]"
            ]
          },
          "execution_count": 12,
          "metadata": {},
          "output_type": "execute_result"
        }
      ],
      "source": [
        "# Question-12\n",
        "list1 = [10, 20, [300, 400, [5000, 6000], 500], 30, 40]\n",
        "list1[2][2].append(7000)\n",
        "list1"
      ]
    },
    {
      "cell_type": "code",
      "execution_count": 13,
      "metadata": {
        "colab": {
          "base_uri": "https://localhost:8080/"
        },
        "id": "DYDtpCxZqRvb",
        "outputId": "0a7e3721-d0e6-4107-826e-ac69d03b0b30"
      },
      "outputs": [
        {
          "data": {
            "text/plain": [
              "[5, 15, 25, 50]"
            ]
          },
          "execution_count": 13,
          "metadata": {},
          "output_type": "execute_result"
        }
      ],
      "source": [
        "# Question-13\n",
        "list1 = [5, 20, 15, 20, 25, 50, 20]\n",
        "rem = 20\n",
        "for i in list1:\n",
        "        if(i == rem):\n",
        "            list1.remove(i)\n",
        "list1  "
      ]
    },
    {
      "cell_type": "code",
      "execution_count": 14,
      "metadata": {
        "colab": {
          "base_uri": "https://localhost:8080/"
        },
        "id": "MNl2tQxYqYlB",
        "outputId": "e9bef4f7-b3bf-4b55-829f-d4b612dcd18e"
      },
      "outputs": [
        {
          "name": "stdout",
          "output_type": "stream",
          "text": [
            "Yes\n"
          ]
        }
      ],
      "source": [
        "# Question-14\n",
        "d1 = {'a': 100, 'b': 200, 'c': 300}\n",
        "val = 200\n",
        "if val in d1.values():\n",
        "    print(\"Yes\")\n",
        "else:\n",
        "    print(\"No\")"
      ]
    },
    {
      "cell_type": "code",
      "execution_count": 15,
      "metadata": {
        "colab": {
          "base_uri": "https://localhost:8080/"
        },
        "id": "udJz9yLBqiKQ",
        "outputId": "2a4031de-48d3-4b64-be27-55ddb3c1d3d4"
      },
      "outputs": [
        {
          "data": {
            "text/plain": [
              "2468"
            ]
          },
          "execution_count": 15,
          "metadata": {},
          "output_type": "execute_result"
        }
      ],
      "source": [
        "# Question-15\n",
        "def findSum(n):\n",
        "    sum = 0\n",
        "    ans = 0\n",
        "    for i in range(n):\n",
        "        sum = sum*10 + 2\n",
        "        ans = ans + sum\n",
        "    return ans    \n",
        "         \n",
        "findSum(4)   "
      ]
    }
  ],
  "metadata": {
    "colab": {
      "authorship_tag": "ABX9TyMgZyoAKig/iETq2XacCWAK",
      "include_colab_link": true,
      "name": "Copy of ML_Assignment-1.ipynb",
      "provenance": []
    },
    "interpreter": {
      "hash": "b0fa6594d8f4cbf19f97940f81e996739fb7646882a419484c72d19e05852a7e"
    },
    "kernelspec": {
      "display_name": "Python 3.9.6 64-bit",
      "name": "python3"
    },
    "language_info": {
      "codemirror_mode": {
        "name": "ipython",
        "version": 3
      },
      "file_extension": ".py",
      "mimetype": "text/x-python",
      "name": "python",
      "nbconvert_exporter": "python",
      "pygments_lexer": "ipython3",
      "version": "3.9.6"
    }
  },
  "nbformat": 4,
  "nbformat_minor": 0
}
